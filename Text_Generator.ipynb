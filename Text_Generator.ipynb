{
  "nbformat": 4,
  "nbformat_minor": 0,
  "metadata": {
    "colab": {
      "name": "Text Generator.ipynb",
      "private_outputs": true,
      "provenance": [],
      "toc_visible": true,
      "mount_file_id": "106INdGx7gDmo2Hk9IaPb7BQ1AMOxnooa",
      "authorship_tag": "ABX9TyMlhZblKEnoFmNv+AcoKxYd",
      "include_colab_link": true
    },
    "kernelspec": {
      "name": "python3",
      "display_name": "Python 3"
    },
    "accelerator": "GPU"
  },
  "cells": [
    {
      "cell_type": "markdown",
      "metadata": {
        "id": "view-in-github",
        "colab_type": "text"
      },
      "source": [
        "<a href=\"https://colab.research.google.com/github/antnewman/nlp-textgenerator-gpt2-notebook/blob/main/Text_Generator.ipynb\" target=\"_parent\"><img src=\"https://colab.research.google.com/assets/colab-badge.svg\" alt=\"Open In Colab\"/></a>"
      ]
    },
    {
      "cell_type": "markdown",
      "metadata": {
        "id": "IHBWIhFWqHBg"
      },
      "source": [
        "# Text Generator"
      ]
    },
    {
      "cell_type": "code",
      "metadata": {
        "id": "uCJkCmadqEed"
      },
      "source": [
        "%tensorflow_version 1.x\r\n",
        "!pip install -q gpt-2-simple\r\n",
        "import gpt_2_simple as gpt2"
      ],
      "execution_count": null,
      "outputs": []
    },
    {
      "cell_type": "markdown",
      "metadata": {
        "id": "ic5dQ-IEr0CD"
      },
      "source": [
        "There are three released sizes of GPT-2:\r\n",
        "- 124M (default): the \"small\" model, 500MB on disk.\r\n",
        "- 355M: the \"medium\" model, 1.5GB on disk.\r\n",
        "- 774M: the \"large\" model\r\n",
        "- 1558M: the \"extra large\"\r\n",
        "\r\n",
        "The large model cannot currently be finetuned with Colaboratory but can be used to generate text from a pretrained model.\r\n",
        "\r\n",
        "The extra large is the true model. It will not work if a K80/P4 GPU is attached to the notebook and as with the large model, it cannot be finetuned.\r\n",
        "\r\n",
        "The larger the model, the greater the knowledge but the longer the processing time. \r\n",
        "\r\n",
        "Use *model_name* to cahnge the base model. "
      ]
    },
    {
      "cell_type": "code",
      "metadata": {
        "id": "Qk2nMu8_qwFD"
      },
      "source": [
        "# Check GPU\r\n",
        "!nvidia-smi"
      ],
      "execution_count": null,
      "outputs": []
    },
    {
      "cell_type": "code",
      "metadata": {
        "id": "zkyLjeNFswC7"
      },
      "source": [
        "gpt2.download_gpt2(model_name=\"124M\")"
      ],
      "execution_count": null,
      "outputs": []
    },
    {
      "cell_type": "code",
      "metadata": {
        "id": "DePAZN6uXuvt"
      },
      "source": [
        "from google.colab import drive\n",
        "drive.mount('/content/drive')"
      ],
      "execution_count": null,
      "outputs": []
    },
    {
      "cell_type": "code",
      "metadata": {
        "id": "mHzP1O7PXDhV"
      },
      "source": [
        "txt = '/content/drive/MyDrive/data/Text/Down To The Sunless Sea.txt'"
      ],
      "execution_count": null,
      "outputs": []
    },
    {
      "cell_type": "code",
      "metadata": {
        "id": "mmO6f-8JX5NP"
      },
      "source": [
        "sess = gpt2.start_tf_sess()\r\n",
        "\r\n",
        "gpt2.finetune(sess,\r\n",
        "              dataset=txt,\r\n",
        "              model_name='124M',\r\n",
        "              steps=1000,\r\n",
        "              restore_from='fresh',\r\n",
        "              run_name='run1',\r\n",
        "              print_every=10,\r\n",
        "              sample_every=200,\r\n",
        "              save_every=500\r\n",
        "              )"
      ],
      "execution_count": null,
      "outputs": []
    },
    {
      "cell_type": "code",
      "metadata": {
        "id": "fnkJ7UVWYKsx"
      },
      "source": [
        "gpt2.copy_checkpoint_to_gdrive(run_name='run1')\r\n",
        "gpt2.copy_checkpoint_from_gdrive(run_name='run1')"
      ],
      "execution_count": null,
      "outputs": []
    },
    {
      "cell_type": "code",
      "metadata": {
        "id": "uOFtLLfXeDI6"
      },
      "source": [
        "# sess = gpt2.start_tf_sess()\r\n",
        "# gpt2.load_gpt2(sess, run_name='run1')"
      ],
      "execution_count": null,
      "outputs": []
    },
    {
      "cell_type": "markdown",
      "metadata": {
        "id": "CLbNFUjBeOkw"
      },
      "source": [
        "After training the model or loading a retrained model from checkpoint, we can generate text. *generate* generates a single text from the loaded model."
      ]
    },
    {
      "cell_type": "code",
      "metadata": {
        "id": "eO0Xn7cLeEOa"
      },
      "source": [
        "gpt2.generate(sess, run_name='run1')"
      ],
      "execution_count": null,
      "outputs": []
    }
  ]
}